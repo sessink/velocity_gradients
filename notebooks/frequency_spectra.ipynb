{
 "cells": [
  {
   "cell_type": "code",
   "execution_count": 1,
   "metadata": {},
   "outputs": [],
   "source": [
    "%matplotlib inline"
   ]
  },
  {
   "cell_type": "code",
   "execution_count": 87,
   "metadata": {},
   "outputs": [],
   "source": [
    "import numpy as np\n",
    "import xarray as xr\n",
    "import matplotlib.pyplot as plt\n",
    "import matplotlib as mpl\n",
    "import matplotlib.pyplot as plt\n",
    "import seaborn as sns\n",
    "import hvplot.xarray\n",
    "import xrscipy\n",
    "\n",
    "sns.set(style='ticks', context='paper', palette='colorblind',font_scale=1.3)\n",
    "mpl.rc('figure', dpi=100, figsize=[11, 5])\n",
    "mpl.rc('savefig', dpi=500, bbox='tight')\n",
    "mpl.rc('legend', frameon=False)\n",
    "\n",
    "\n",
    "from deformtools.tools import alphabet\n",
    "import warnings\n",
    "\n",
    "warnings.simplefilter('ignore')"
   ]
  },
  {
   "cell_type": "code",
   "execution_count": 78,
   "metadata": {},
   "outputs": [],
   "source": [
    "dat = xr.open_mfdataset('../data/clusters/combinations_lt_10_*.nc',concat_dim='clusters',autoclose=True)"
   ]
  },
  {
   "cell_type": "code",
   "execution_count": 174,
   "metadata": {},
   "outputs": [],
   "source": [
    "dat['vort'] = dat.vort*gsw.f(40)\n",
    "dat['div'] = dat.div*gsw.f(40)"
   ]
  },
  {
   "cell_type": "code",
   "execution_count": 175,
   "metadata": {},
   "outputs": [],
   "source": [
    "dat\n",
    "dat['itime'] = ('time', np.arange(0,len(dat.time)))"
   ]
  },
  {
   "cell_type": "code",
   "execution_count": 176,
   "metadata": {},
   "outputs": [],
   "source": [
    "dat = dat.assign_coords(time=dat.itime)"
   ]
  },
  {
   "cell_type": "code",
   "execution_count": 177,
   "metadata": {},
   "outputs": [
    {
     "data": {
      "text/plain": [
       "<xarray.DataArray 'vort' (time: 252)>\n",
       "dask.array<shape=(252,), dtype=float64, chunksize=(252,)>\n",
       "Coordinates:\n",
       "  * time     (time) int64 0 1 2 3 4 5 6 7 8 ... 244 245 246 247 248 249 250 251"
      ]
     },
     "execution_count": 177,
     "metadata": {},
     "output_type": "execute_result"
    }
   ],
   "source": [
    "dat.vort.mean(dim='clusters').dropna('time')"
   ]
  },
  {
   "cell_type": "code",
   "execution_count": 191,
   "metadata": {},
   "outputs": [],
   "source": [
    "fftvort = xrscipy.fftpack.fft(dat.vort.mean(dim='clusters').dropna('time').load()**2,'time')\n",
    "fftdiv = xrscipy.fftpack.fft(dat.div.mean(dim='clusters').dropna('time').load()**2,'time')\n",
    "fftstrain = xrscipy.fftpack.fft(dat.strain.mean(dim='clusters').dropna('time').load()**2,'time')"
   ]
  },
  {
   "cell_type": "code",
   "execution_count": 192,
   "metadata": {},
   "outputs": [],
   "source": [
    "n = len(dat.div.mean(dim='clusters').dropna('time').load())"
   ]
  },
  {
   "cell_type": "code",
   "execution_count": 193,
   "metadata": {},
   "outputs": [],
   "source": [
    "from scipy.fftpack import fftshift"
   ]
  },
  {
   "cell_type": "code",
   "execution_count": 194,
   "metadata": {},
   "outputs": [],
   "source": [
    "fftvort = fftshift(fftvort)\n",
    "time = fftfreq(n,d=1)"
   ]
  },
  {
   "cell_type": "code",
   "execution_count": 196,
   "metadata": {},
   "outputs": [
    {
     "data": {
      "text/plain": [
       "(0.1, 0.6)"
      ]
     },
     "execution_count": 196,
     "metadata": {},
     "output_type": "execute_result"
    },
    {
     "data": {
      "image/png": "[encoded data removed]",
      "text/plain": [
       "<Figure size 1100x500 with 1 Axes>"
      ]
     },
     "metadata": {},
     "output_type": "display_data"
    }
   ],
   "source": [
    "plt.plot(time,np.real(fftvort),marker='.',lw=0)\n",
    "plt.plot(time,np.real(fftdiv),marker='.',lw=0)\n",
    "# plt.plot(fftstrain.time,fftstrain,marker='.',lw=0)\n",
    "plt.xscale('log')\n",
    "plt.yscale('log')\n",
    "# plt.ylim(1e-8,1e1)\n",
    "plt.xlim(1e-1,6e-1)"
   ]
  },
  {
   "cell_type": "code",
   "execution_count": 166,
   "metadata": {},
   "outputs": [
    {
     "data": {
      "text/plain": [
       "18.617714497399174"
      ]
     },
     "execution_count": 166,
     "metadata": {},
     "output_type": "execute_result"
    }
   ],
   "source": [
    "import gsw\n",
    "2*np.pi/gsw.f(40)/3600"
   ]
  },
  {
   "cell_type": "code",
   "execution_count": 1,
   "metadata": {},
   "outputs": [],
   "source": [
    "import xrscipy.signal as dsp\n",
    "def compute_spectra(raw,array):\n",
    "    raw['dtime'] = ('time', np.array( (raw.time - raw.time.isel(time=0)).values*1e-9, dtype=float))\n",
    "    raw = raw.swap_dims({'time':'dtime'})\n",
    "    return dsp.spectrogram(raw[array].dropna(dim='dtime'), dim='dtime', fs=86400/dsp.get_sampling_step(raw, dim='dtime'), nperseg=128 )"
   ]
  },
  {
   "cell_type": "code",
   "execution_count": null,
   "metadata": {},
   "outputs": [],
   "source": [
    "spec = compute_spectra(dat, 'strain').squeeze()"
   ]
  },
  {
   "cell_type": "code",
   "execution_count": null,
   "metadata": {},
   "outputs": [],
   "source": [
    "spec.pipe(np.log10).plot(vmin=-4, vmax=-1.5)\n",
    "plt.xscale('log')\n",
    "plt.xlim(1e-1,2e1)"
   ]
  },
  {
   "cell_type": "code",
   "execution_count": 2,
   "metadata": {},
   "outputs": [
    {
     "ename": "NameError",
     "evalue": "name 'dat' is not defined",
     "output_type": "error",
     "traceback": [
      "\u001b[0;31m---------------------------------------------------------------------------\u001b[0m",
      "\u001b[0;31mNameError\u001b[0m                                 Traceback (most recent call last)",
      "\u001b[0;32m<ipython-input-2-f2a619091a93>\u001b[0m in \u001b[0;36m<module>\u001b[0;34m\u001b[0m\n\u001b[1;32m      1\u001b[0m \u001b[0;32mimport\u001b[0m \u001b[0mgsw\u001b[0m\u001b[0;34m\u001b[0m\u001b[0;34m\u001b[0m\u001b[0m\n\u001b[0;32m----> 2\u001b[0;31m \u001b[0mlatmean\u001b[0m \u001b[0;34m=\u001b[0m \u001b[0mdat\u001b[0m\u001b[0;34m.\u001b[0m\u001b[0mlat\u001b[0m\u001b[0;34m.\u001b[0m\u001b[0mmean\u001b[0m\u001b[0;34m(\u001b[0m\u001b[0;34m)\u001b[0m\u001b[0;34m\u001b[0m\u001b[0;34m\u001b[0m\u001b[0m\n\u001b[0m\u001b[1;32m      3\u001b[0m \u001b[0;36m1.7\u001b[0m\u001b[0;34m*\u001b[0m\u001b[0mgsw\u001b[0m\u001b[0;34m.\u001b[0m\u001b[0mf\u001b[0m\u001b[0;34m(\u001b[0m\u001b[0;36m17.4\u001b[0m\u001b[0;34m)\u001b[0m\u001b[0;34m*\u001b[0m\u001b[0;36m86400\u001b[0m\u001b[0;34m/\u001b[0m\u001b[0;34m(\u001b[0m\u001b[0;36m2\u001b[0m\u001b[0;34m*\u001b[0m\u001b[0mnp\u001b[0m\u001b[0;34m.\u001b[0m\u001b[0mpi\u001b[0m\u001b[0;34m)\u001b[0m\u001b[0;34m\u001b[0m\u001b[0;34m\u001b[0m\u001b[0m\n",
      "\u001b[0;31mNameError\u001b[0m: name 'dat' is not defined"
     ]
    }
   ],
   "source": [
    "import gsw\n",
    "latmean = dat.lat.mean()\n",
    "1.7*gsw.f(17.4)*86400/(2*np.pi)"
   ]
  },
  {
   "cell_type": "code",
   "execution_count": null,
   "metadata": {},
   "outputs": [],
   "source": [
    "spec.mean(dim='clusters').plot()\n",
    "# plt.axvline(1.3*gsw.f(latmean)*86400/(2*np.pi), lw=2, color='r')\n",
    "plt.axvline(gsw.f(latmean)*86400/(2*np.pi), lw=2, color='r')\n",
    "plt.xscale('log')\n",
    "plt.yscale('log')"
   ]
  }
 ],
 "metadata": {
  "kernelspec": {
   "display_name": "Python 3",
   "language": "python",
   "name": "python3"
  },
  "language_info": {
   "codemirror_mode": {
    "name": "ipython",
    "version": 3
   },
   "file_extension": ".py",
   "mimetype": "text/x-python",
   "name": "python",
   "nbconvert_exporter": "python",
   "pygments_lexer": "ipython3",
   "version": "3.7.3"
  }
 },
 "nbformat": 4,
 "nbformat_minor": 4
}
