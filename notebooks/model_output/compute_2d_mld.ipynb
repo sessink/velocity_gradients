{
 "cells": [
  {
   "cell_type": "code",
   "execution_count": 1,
   "metadata": {},
   "outputs": [
    {
     "name": "stderr",
     "output_type": "stream",
     "text": [
      "/Library/Frameworks/Python.framework/Versions/3.6/lib/python3.6/importlib/_bootstrap.py:205: RuntimeWarning: numpy.dtype size changed, may indicate binary incompatibility. Expected 96, got 88\n",
      "  return f(*args, **kwds)\n",
      "/Library/Frameworks/Python.framework/Versions/3.6/lib/python3.6/importlib/_bootstrap.py:205: RuntimeWarning: numpy.dtype size changed, may indicate binary incompatibility. Expected 96, got 88\n",
      "  return f(*args, **kwds)\n"
     ]
    }
   ],
   "source": [
    "import xarray as xr\n",
    "import numpy as np\n",
    "import pandas as pd\n",
    "import matplotlib.pyplot as plt\n",
    "from dask import delayed\n",
    "import seaborn as sns\n",
    "import scipy.stats as sstats\n",
    "import glob\n",
    "from dask import delayed\n",
    "from time import time\n",
    "import bottleneck as bn\n",
    "sns.set(style='whitegrid',font_scale=1.3,context='talk')"
   ]
  },
  {
   "cell_type": "code",
   "execution_count": 2,
   "metadata": {},
   "outputs": [],
   "source": [
    "# read grid\n",
    "path = './output_2013asiri_06b/'\n",
    "zgrid = pd.read_csv(path+'zgrid.out', skipinitialspace=True, sep=' ', header=None)[1][1:51].astype(float)\n",
    "ds = xr.open_dataset(path+'full_00000.cdf',\n",
    "                     drop_variables=['conv','conv100','pv','vor','u','v','w',\n",
    "                                     'consump','tr','s','temp','p','con100','h','xc','yc','zc'])\n",
    "dz,dy,dx = np.meshgrid(np.diff(zgrid), np.diff(ds.y*1000),np.diff(ds.x*1000), indexing='ij')\n",
    "jac =  dy*dx*dz"
   ]
  },
  {
   "cell_type": "code",
   "execution_count": 69,
   "metadata": {},
   "outputs": [
    {
     "data": {
      "text/plain": [
       "(322, 194)"
      ]
     },
     "execution_count": 69,
     "metadata": {},
     "output_type": "execute_result"
    }
   ],
   "source": [
    "a.shape"
   ]
  },
  {
   "cell_type": "code",
   "execution_count": 66,
   "metadata": {},
   "outputs": [],
   "source": [
    "def interpolate_mld(ds,zgrid,x,y):\n",
    "    from scipy import interpolate\n",
    "    foo = xr.DataArray(ds.rho, coords=[zgrid, ds.y, ds.x], dims=['z', 'y', 'x'])\n",
    "    dss = xr.Dataset({'rho':foo})\n",
    "    \n",
    "    # find density at 10m\n",
    "    a = dss.rho.interp(x=dss.x,y=dss.y,z=-10) \n",
    "    \n",
    "    # find mixed layer depth surface\n",
    "    zz,yy,xx = np.meshgrid(dss.z,dss.y,dss.x,indexing='ij')\n",
    "    rho1 = np.max(np.ma.masked_where(dss.rho < (a.values + 0.03),dss.rho), axis=0)\n",
    "    rho2 = np.min(np.ma.masked_where(dss.rho > (a.values + 0.03),dss.rho), axis=0)\n",
    "    z1 = np.max(np.ma.masked_where(dss.rho < (a.values + 0.03),zz), axis=0)\n",
    "    z2 = np.min(np.ma.masked_where(dss.rho > (a.values + 0.03),zz), axis=0)\n",
    "    w1=(rho1- (a.values + 0.03))/(rho1-rho2)\n",
    "    w2= 1-wt1\n",
    "    mld = z1*w2 + z2*w1\n",
    "    \n",
    "    # make interpolant\n",
    "    f = interpolate.interp2d(dss.x,dss.y,mld)\n",
    "    \n",
    "    # query interpolant\n",
    "    return f(x,y)"
   ]
  },
  {
   "cell_type": "code",
   "execution_count": 67,
   "metadata": {},
   "outputs": [
    {
     "data": {
      "text/plain": [
       "array([-24.46138632])"
      ]
     },
     "execution_count": 67,
     "metadata": {},
     "output_type": "execute_result"
    }
   ],
   "source": [
    "interpolate_mld(ds,zgrid,10,10)"
   ]
  },
  {
   "cell_type": "code",
   "execution_count": 57,
   "metadata": {},
   "outputs": [
    {
     "data": {
      "image/png": "[encoded data removed]",
      "text/plain": [
       "<Figure size 432x288 with 2 Axes>"
      ]
     },
     "metadata": {},
     "output_type": "display_data"
    }
   ],
   "source": [
    "plt.pcolor(mld)\n",
    "plt.colorbar()\n",
    "plt.show()"
   ]
  },
  {
   "cell_type": "code",
   "execution_count": 58,
   "metadata": {},
   "outputs": [],
   "source": [
    "from scipy import interpolate"
   ]
  },
  {
   "cell_type": "code",
   "execution_count": 60,
   "metadata": {},
   "outputs": [],
   "source": [
    "f = interpolate.interp2d(dss.x,dss.y,mld)"
   ]
  },
  {
   "cell_type": "code",
   "execution_count": 63,
   "metadata": {},
   "outputs": [
    {
     "data": {
      "text/plain": [
       "(2, 3)"
      ]
     },
     "execution_count": 63,
     "metadata": {},
     "output_type": "execute_result"
    }
   ],
   "source": [
    "f([20,30,40],[120.130,140]).shape"
   ]
  },
  {
   "cell_type": "code",
   "execution_count": null,
   "metadata": {},
   "outputs": [],
   "source": []
  }
 ],
 "metadata": {
  "kernelspec": {
   "display_name": "Python 3",
   "language": "python",
   "name": "python3"
  },
  "language_info": {
   "codemirror_mode": {
    "name": "ipython",
    "version": 3
   },
   "file_extension": ".py",
   "mimetype": "text/x-python",
   "name": "python",
   "nbconvert_exporter": "python",
   "pygments_lexer": "ipython3",
   "version": "3.6.0"
  }
 },
 "nbformat": 4,
 "nbformat_minor": 2
}
