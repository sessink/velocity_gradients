{
 "cells": [
  {
   "cell_type": "code",
   "execution_count": 1,
   "metadata": {},
   "outputs": [],
   "source": [
    "%load_ext autoreload\n",
    "%autoreload 2"
   ]
  },
  {
   "cell_type": "code",
   "execution_count": 30,
   "metadata": {},
   "outputs": [],
   "source": [
    "# Scientific Computing\n",
    "import numpy as np\n",
    "import pandas as pd\n",
    "import xarray as xr\n",
    "from scipy import stats\n",
    "\n",
    "import bottleneck as bn\n",
    "\n",
    "# Plotting\n",
    "import matplotlib.pyplot as plt\n",
    "import seaborn as sns\n",
    "\n",
    "import gsw\n",
    "\n",
    "from deformtools.tools import *\n",
    "from deformtools.io import *\n",
    "from deformtools.methods import *\n",
    "\n",
    "sns.set(context='talk', style='whitegrid', font_scale=1.3)"
   ]
  },
  {
   "cell_type": "code",
   "execution_count": 153,
   "metadata": {},
   "outputs": [],
   "source": [
    "def sensitivity_length(N, filt, fu, fv, fzeta):\n",
    "    '''\n",
    "    least square method varying length of hexagons\n",
    "    '''\n",
    "    f = gsw.f(17)\n",
    "    M = 3\n",
    "    llist = np.arange(1, 30, 1).astype(float)\n",
    "    llist = np.insert(llist, 0, 0.5)\n",
    "    skew=1\n",
    "    \n",
    "    error = []\n",
    "    error_l = []\n",
    "    error3 = []\n",
    "    error_l_ci = []\n",
    "    for l, L in enumerate(llist):\n",
    "        # make polygons\n",
    "        xi, yi = make_n_hexs(L, skew, N, M)\n",
    "\n",
    "        # find the u,v at the polygon vertices\n",
    "        ui = fu.ev(xi, yi)\n",
    "        vi = fv.ev(xi, yi)\n",
    "        # find zeta at polygon center\n",
    "        true1 = fzeta.ev(bn.nanmean(xi, axis=1), bn.nanmean(yi, axis=1))/f\n",
    "        true2 = np.nanmean( fzeta.ev(xi, yi), axis=1)/f\n",
    "\n",
    "        estimate = np.zeros(N)\n",
    "        for i in range(N):\n",
    "            estimate[i], _, _ = least_square_method(\n",
    "                xi[i, :], yi[i, :], ui[i, :], vi[i, :], 'solve')\n",
    "        \n",
    "        # compute R2 and confidence interval\n",
    "        error.append(stats.pearsonr(true2, estimate)[0]**2)\n",
    "        error_l.append(stats.pearsonr(true1, estimate)[0]**2)\n",
    "        error_l_ci.append(bootstrap_ci(true1, estimate, N))\n",
    "        error3.append( np.nanmean( (estimate-true1)/true1 ) )\n",
    "\n",
    "    # save in dataframe\n",
    "    df = pd.DataFrame(index=np.asarray(llist))\n",
    "    df['error1'] = np.asarray(error)\n",
    "    df['error2'] = np.asarray(error_l)\n",
    "    df['error3'] = np.asarray(error3)\n",
    "    df['ci_low'] = np.asarray(error_l_ci)[:, 0]\n",
    "    df['ci_high'] = np.asarray(error_l_ci)[:, 1]\n",
    "    df['filter'] = filt\n",
    "\n",
    "    return df\n",
    "\n",
    "def sensitivity_aspect(N, filt, fu, fv, fzeta):\n",
    "    '''\n",
    "    least square method varying number of drifter per cluster\n",
    "    '''\n",
    "    f = gsw.f(17)\n",
    "    L = 2\n",
    "    M = 3\n",
    "    skewlist = np.arange(1, 30, 1)\n",
    "\n",
    "    aspect = []\n",
    "    error = []\n",
    "    error3 = []\n",
    "    error_l = []\n",
    "    error_l_ci = []\n",
    "    for l, skew in enumerate(skewlist):\n",
    "        # make polygons\n",
    "        xi, yi = make_n_hexs(L, skew, N, M)\n",
    "\n",
    "        # find the u,v at the polygon vertices\n",
    "        ui = fu.ev(xi, yi)\n",
    "        vi = fv.ev(xi, yi)\n",
    "        # find zeta at polygon center\n",
    "        true1 = fzeta.ev(bn.nanmean(xi, axis=1), bn.nanmean(yi, axis=1))/f\n",
    "        true2 = np.nanmean( fzeta.ev(xi, yi), axis=1)/f\n",
    "\n",
    "        estimate = np.zeros(N)\n",
    "        for i in range(N):\n",
    "            estimate[i], _, _ = least_square_method(\n",
    "                xi[i, :], yi[i, :], ui[i, :], vi[i, :], 'lstsq')\n",
    "\n",
    "        # compute aspect ratio, R2 and confidence interval\n",
    "        aspect.append(calc_aspect(xi[0, :], yi[0, :]))\n",
    "        error.append(stats.pearsonr(true2, estimate)[0]**2)\n",
    "        error_l.append(stats.pearsonr(true1, estimate)[0]**2)\n",
    "        error_l_ci.append(bootstrap_ci(true1, estimate, N))\n",
    "        error3.append( np.nanmean( (estimate-true1)/true1 ) )\n",
    "    \n",
    "    # save in dataframe\n",
    "    df = pd.DataFrame(index=np.asarray(aspect))\n",
    "    df['error1'] = np.asarray(error)\n",
    "    df['error2'] = np.asarray(error_l)\n",
    "    df['error3'] = np.asarray(error3)\n",
    "    df['ci_low'] = np.asarray(error_l_ci)[:, 0]\n",
    "    df['ci_high'] = np.asarray(error_l_ci)[:, 1]\n",
    "    df['filter'] = filt\n",
    "\n",
    "    return df\n",
    "\n",
    "def sensitivity_number(N, filt, fu, fv, fzeta):\n",
    "    '''\n",
    "    least square method varying number of drifter per cluster\n",
    "    '''\n",
    "    f = gsw.f(17)\n",
    "    \n",
    "    L =2\n",
    "    mlist = np.arange(3, 10)\n",
    "    skew=2\n",
    "    \n",
    "    error = []\n",
    "    error3 = []\n",
    "    error_l = []\n",
    "    error_l_ci = []\n",
    "    mad = []\n",
    "    rms = []\n",
    "    for l, M in enumerate(mlist):\n",
    "        # make polygons\n",
    "        xi, yi = make_n_hexs(L, skew, N, M)\n",
    "\n",
    "        # find the u,v at the polygon vertices\n",
    "        ui = fu.ev(xi, yi)\n",
    "        vi = fv.ev(xi, yi)\n",
    "        # find zeta at polygon center\n",
    "        true1 = fzeta.ev(bn.nanmean(xi, axis=1), bn.nanmean(yi, axis=1))/f\n",
    "        true2 = np.nanmean( fzeta.ev(xi, yi), axis=1)/f\n",
    "\n",
    "        # estimate vorticity from the velocities\n",
    "        estimate = np.zeros(N)\n",
    "        for i in range(N):\n",
    "            estimate[i], _, _ = least_square_method(\n",
    "                xi[i, :], yi[i, :], ui[i, :], vi[i, :], 'inv')\n",
    "        \n",
    "        # compute R2 and confidence interval\n",
    "        error.append( stats.pearsonr(true2, estimate)[0]**2)\n",
    "        error_l.append(stats.pearsonr(true1, estimate)[0]**2)\n",
    "        error3.append( np.nanmean( (estimate-true1)/true1 ) )\n",
    "        error_l_ci.append(bootstrap_ci(true1, estimate, N))\n",
    "        mad.append(np.nanmean( estimate/true1 - np.nanmean(estimate/true1 ) ))\n",
    "        rms.append(np.nanmean( np.sqrt( (true1 - estimate)**2  )  ))\n",
    "\n",
    "    # save in dataframe\n",
    "    df = pd.DataFrame(index=np.asarray(mlist))\n",
    "    df['error1'] = np.asarray(error)\n",
    "    df['error2'] = np.asarray(error_l)\n",
    "    df['error3'] = np.asarray(error3)\n",
    "    df['mad1'] = np.asarray(mad)\n",
    "    df['rms1'] = np.asarray(rms)\n",
    "    df['ci_low'] = np.asarray(error_l_ci)[:, 0]\n",
    "    df['ci_high'] = np.asarray(error_l_ci)[:, 1]\n",
    "    df['filter'] = filt\n",
    "\n",
    "    return df"
   ]
  },
  {
   "cell_type": "code",
   "execution_count": 154,
   "metadata": {},
   "outputs": [],
   "source": [
    "# %% MAIN\n",
    "data_path = '../../data/'\n",
    "zgrid_path = data_path+'psom/zgrid.out'\n",
    "model_path = data_path+'psom/full_08325.cdf'\n",
    "\n",
    "# dat = read_model_field(snakemake.input[0], snakemake.input[1])\n",
    "dat = read_model_field(zgrid_path, model_path) \n",
    "dat = dat.rename({'xc':'x'}).rename({'yc':'y'})\n",
    "dat = dat.set_coords({'x','y'}).transpose('x','y')\n",
    "\n",
    "fu, fv, fzeta = filter_fields(dat)"
   ]
  },
  {
   "cell_type": "code",
   "execution_count": 155,
   "metadata": {},
   "outputs": [
    {
     "name": "stdout",
     "output_type": "stream",
     "text": [
      "0\n",
      "10\n",
      "20\n"
     ]
    }
   ],
   "source": [
    "N = 1000\n",
    "\n",
    "length_bucket = []\n",
    "number_bucket = []\n",
    "aspect_bucket = []\n",
    "for i, filt in enumerate([1, 5, 10]):\n",
    "    length_bucket.append(\n",
    "        sensitivity_length(N, filt, fu=fu[i], fv=fv[i], fzeta=fzeta[i]))\n",
    "    number_bucket.append(\n",
    "        sensitivity_number(N, filt, fu=fu[i], fv=fv[i], fzeta=fzeta[i]))\n",
    "    aspect_bucket.append(\n",
    "        sensitivity_aspect(N, filt, fu=fu[i], fv=fv[i], fzeta=fzeta[i]))\n",
    "    print(filt)"
   ]
  },
  {
   "cell_type": "code",
   "execution_count": 156,
   "metadata": {},
   "outputs": [],
   "source": [
    "pd.concat(length_bucket).reset_index().to_feather(data_path+'psom/sensitivity_length.feather')\n",
    "pd.concat(number_bucket).reset_index().to_feather(data_path+'psom/sensitivity_number.feather')\n",
    "pd.concat(aspect_bucket).reset_index().to_feather(data_path+'psom/sensitivity_aspect.feather')"
   ]
  },
  {
   "cell_type": "markdown",
   "metadata": {},
   "source": [
    "### Test if comparison checks out"
   ]
  },
  {
   "cell_type": "code",
   "execution_count": 83,
   "metadata": {},
   "outputs": [],
   "source": [
    "df = pd.concat(number_bucket).reset_index() "
   ]
  },
  {
   "cell_type": "code",
   "execution_count": 114,
   "metadata": {},
   "outputs": [
    {
     "data": {
      "text/plain": [
       "20"
      ]
     },
     "execution_count": 114,
     "metadata": {},
     "output_type": "execute_result"
    }
   ],
   "source": [
    "M"
   ]
  },
  {
   "cell_type": "code",
   "execution_count": 131,
   "metadata": {},
   "outputs": [],
   "source": [
    "L = 20\n",
    "mlist = np.arange(3, 21)\n",
    "skew=1\n",
    "N = 1000\n",
    "f = gsw.f(17)\n",
    "\n",
    "M=3\n",
    "\n",
    "error = []\n",
    "error3 = []\n",
    "error_l = []\n",
    "error_l_ci = []\n",
    "mad = []\n",
    "\n",
    "# make polygons\n",
    "xi, yi = make_n_hexs(L, skew, N, M)\n",
    "\n",
    "# find the u,v at the polygon vertices\n",
    "ui = fu[2].ev(xi, yi)\n",
    "vi = fv[2].ev(xi, yi)\n",
    "# find zeta at polygon center\n",
    "true1 = fzeta[2].ev(bn.nanmean(xi, axis=1), bn.nanmean(yi, axis=1))/f\n",
    "true2 = np.nanmean( fzeta[2].ev(xi, yi), axis=1)/f\n",
    "\n",
    "# estimate vorticity from the velocities\n",
    "estimate = np.zeros(N)\n",
    "for i in range(N):\n",
    "    estimate[i], _, _ = least_square_method(\n",
    "        xi[i, :], yi[i, :], ui[i, :], vi[i, :], 'inv')\n",
    "\n",
    "# compute R2 and confidence interval\n",
    "error3.append( np.nanmean( (estimate-true1)/true1 ) )\n",
    "error.append( stats.pearsonr(true2, estimate)[0]**2)\n",
    "error_l.append(stats.pearsonr(true1, estimate)[0]**2)\n",
    "error_l_ci.append(bootstrap_ci(true1, estimate, N))\n",
    "mad.append(np.nanmean( estimate/true1 - np.nanmean(estimate/true1 ) ))"
   ]
  },
  {
   "cell_type": "code",
   "execution_count": 132,
   "metadata": {},
   "outputs": [
    {
     "data": {
      "text/plain": [
       "(array([ 38.,  92., 190., 173., 172., 187.,  87.,  36.,  18.,   7.]),\n",
       " array([-0.60219743, -0.44830177, -0.29440611, -0.14051045,  0.01338521,\n",
       "         0.16728086,  0.32117652,  0.47507218,  0.62896784,  0.7828635 ,\n",
       "         0.93675916]),\n",
       " <a list of 10 Patch objects>)"
      ]
     },
     "execution_count": 132,
     "metadata": {},
     "output_type": "execute_result"
    },
    {
     "data": {
      "image/png": "[encoded data removed]",
      "text/plain": [
       "<Figure size 432x288 with 1 Axes>"
      ]
     },
     "metadata": {},
     "output_type": "display_data"
    }
   ],
   "source": [
    "plt.hist(estimate)"
   ]
  },
  {
   "cell_type": "code",
   "execution_count": 133,
   "metadata": {},
   "outputs": [
    {
     "data": {
      "text/plain": [
       "(array([ 22.,  78., 142., 171., 151., 135., 153.,  99.,  34.,  15.]),\n",
       " array([-0.51970181, -0.40282082, -0.28593982, -0.16905883, -0.05217784,\n",
       "         0.06470315,  0.18158414,  0.29846513,  0.41534612,  0.53222711,\n",
       "         0.6491081 ]),\n",
       " <a list of 10 Patch objects>)"
      ]
     },
     "execution_count": 133,
     "metadata": {},
     "output_type": "execute_result"
    },
    {
     "data": {
      "image/png": "[encoded data removed]",
      "text/plain": [
       "<Figure size 432x288 with 1 Axes>"
      ]
     },
     "metadata": {},
     "output_type": "display_data"
    }
   ],
   "source": [
    "plt.hist(true2)"
   ]
  },
  {
   "cell_type": "code",
   "execution_count": 134,
   "metadata": {},
   "outputs": [
    {
     "data": {
      "text/plain": [
       "0.1298689483989886"
      ]
     },
     "execution_count": 134,
     "metadata": {},
     "output_type": "execute_result"
    }
   ],
   "source": [
    "np.nanmean( np.sqrt( (true1 - estimate)**2  )  )"
   ]
  },
  {
   "cell_type": "code",
   "execution_count": null,
   "metadata": {},
   "outputs": [],
   "source": []
  }
 ],
 "metadata": {
  "kernelspec": {
   "display_name": "Python 3",
   "language": "python",
   "name": "python3"
  },
  "language_info": {
   "codemirror_mode": {
    "name": "ipython",
    "version": 3
   },
   "file_extension": ".py",
   "mimetype": "text/x-python",
   "name": "python",
   "nbconvert_exporter": "python",
   "pygments_lexer": "ipython3",
   "version": "3.7.3"
  }
 },
 "nbformat": 4,
 "nbformat_minor": 4
}
