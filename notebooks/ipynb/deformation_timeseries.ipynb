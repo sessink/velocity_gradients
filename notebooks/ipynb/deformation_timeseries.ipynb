{
 "cells": [
  {
   "cell_type": "code",
   "execution_count": 1,
   "metadata": {},
   "outputs": [],
   "source": [
    "\n",
    "%load_ext autoreload\n",
    "%autoreload 2"
   ]
  },
  {
   "cell_type": "code",
   "execution_count": 2,
   "metadata": {},
   "outputs": [],
   "source": [
    "import numpy as np\n",
    "import pandas as pd\n",
    "import matplotlib.pyplot as plt\n",
    "import seaborn as sns\n",
    "import bottleneck as bn\n",
    "from numba import jit\n",
    "\n",
    "import warnings\n",
    "from scipy.special import comb\n",
    "from scipy.stats import circmean,circstd # circular statistics\n",
    "from sklearn.utils import resample # for bootstrapping\n",
    "from itertools import combinations\n",
    "from datetime import datetime,timedelta\n",
    "from deformtools.haversine import haversine\n",
    "# from deformtools.methods import least_square_method\n",
    "# from deformtools.tools import ha\n",
    "\n",
    "from mpl_toolkits.axes_grid1.inset_locator import inset_axes\n",
    "import random\n",
    "import matplotlib.dates as mdates\n",
    "import multiprocessing as mp\n",
    "from time import time\n",
    "import scipy.linalg as la\n",
    "\n",
    "warnings.simplefilter('ignore')\n",
    "sns.set(style='whitegrid', context='poster', font_scale=1.2)\n",
    "%matplotlib inline "
   ]
  },
  {
   "cell_type": "code",
   "execution_count": 3,
   "metadata": {},
   "outputs": [],
   "source": [
    "class Polygon:\n",
    "    \n",
    "    def __init__(self,i,comb,data):\n",
    "        # initialize polygon\n",
    "        #self.id = i\n",
    "        #self.drifters=comb # indices of drifters in polygon\n",
    "        self.lats=data.lat.values\n",
    "        self.lons=data.lon.values\n",
    "        self.com=np.array( [bn.nanmean(data.lon.values),bn.nanmean(data.lat.values)])\n",
    "        #self.us=data.uv.real/100\n",
    "        #self.vs=data.uv.imag/100\n",
    "        self.length=[]\n",
    "        self.aspect=[]\n",
    "        self.angle=[]\n",
    "    \n",
    "    def p(self,i):\n",
    "        # return coordinates of a point\n",
    "        return [self.lons[i],self.lats[i]]\n",
    "    \n",
    "    def calc_lengths(self):\n",
    "        lengths=[]\n",
    "        ncc = len(self.lons)\n",
    "        r = combinations(np.arange(ncc), 2) \n",
    "        \n",
    "        k=0\n",
    "        for i,j in r:\n",
    "            lengths.append( haversine( self.p(i),self.p(j) ) )\n",
    "            k+=1\n",
    "            \n",
    "        lengths=np.array(lengths)                   \n",
    "        if np.sum(np.isfinite(lengths))==k:\n",
    "            self.length = np.sqrt( np.mean(lengths**2) )\n",
    "        else:\n",
    "            self.length = np.nan           \n",
    "    \n",
    "    def least_square_method(self):\n",
    "        #import gsw\n",
    "        import scipy.linalg as la\n",
    "        timeseries=True\n",
    "        ncc = len(self.lons)\n",
    "        dlon=[]\n",
    "        dlat=[] \n",
    "        for i in range(ncc):\n",
    "            # haversine(p1,p2)\n",
    "            dlon.append(haversine( [self.lons[i],self.com[1]],self.com)*1000*np.sign(self.lons[i]-self.com[0]))\n",
    "            dlat.append(haversine( [self.com[0],self.lats[i]],self.com)*1000*np.sign(self.lats[i]-self.com[1]))\n",
    "        \n",
    "        if not timeseries:\n",
    "            R = np.mat( np.vstack( (np.ones((ncc,)) ,np.array(dlon), np.array(dlat) )).T )\n",
    "            u0=np.mat(self.us).T\n",
    "            v0=np.mat(self.vs).T\n",
    "\n",
    "            A,_,_,_=la.lstsq(R,u0)\n",
    "            B,_,_,_=la.lstsq(R,v0)\n",
    "        \n",
    "            self.A=A[1:]\n",
    "            self.B=B[1:]\n",
    "\n",
    "        points =np.vstack( [dlon,dlat] )\n",
    "        if np.sum( np.isfinite(points))==2*npol:\n",
    "            # careful with nans\n",
    "            cov = np.cov(points)\n",
    "            w,v = np.linalg.eig(cov)\n",
    "            self.aspect = bn.nanmin(w)/bn.nanmax(w)\n",
    "            \n",
    "            ind = bn.nanargmax(w)\n",
    "            self.angle = np.arctan(v[ind,1]/v[ind,0])*180/np.pi\n",
    "            \n",
    "        else:\n",
    "            self.aspect=np.nan\n",
    "            #self.angle=np.nan"
   ]
  },
  {
   "cell_type": "code",
   "execution_count": 4,
   "metadata": {},
   "outputs": [],
   "source": [
    "def makePolygons(i):\n",
    "    criteria2 = data_chosen.particle.isin(selected_co[i])\n",
    "    return Polygon(i,selected_co[i],data_chosen[criteria2])\n",
    "\n",
    "def calc_properties(i):\n",
    "    results[i].calc_lengths()\n",
    "    results[i].least_square_method() \n",
    "    return results[i]\n",
    "\n",
    "@jit\n",
    "def find_percentiles(data):\n",
    "    alpha = 0.75 # 95% confidence interval\n",
    "    ordered = np.sort(data)\n",
    "    lo = np.percentile(ordered,100*(1-alpha)/2,)\n",
    "    hi = np.percentile(ordered,100*(alpha+(1-alpha)/2))\n",
    "    return lo,hi"
   ]
  },
  {
   "cell_type": "code",
   "execution_count": 5,
   "metadata": {},
   "outputs": [
    {
     "data": {
      "text/plain": [
       "'/Users/sebastianessink/Dropbox (MIT)/deform/notebooks/ipynb'"
      ]
     },
     "execution_count": 5,
     "metadata": {},
     "output_type": "execute_result"
    }
   ],
   "source": [
    "pwd"
   ]
  },
  {
   "cell_type": "code",
   "execution_count": 11,
   "metadata": {},
   "outputs": [
    {
     "name": "stdout",
     "output_type": "stream",
     "text": [
      "N=45, npol=3, Nnpol=14190, T=32\n"
     ]
    }
   ],
   "source": [
    "data_path = '../../data/drifters/'\n",
    "data = pd.read_pickle(data_path+'/posveldata_all.pkl')\n",
    "N = data.particle.unique().size\n",
    "npol=3\n",
    "Nnpol = comb(N,npol,exact=True)\n",
    "sampling_times = pd.date_range(data.index.unique()[0], periods=32, freq='6H')\n",
    "T = len(sampling_times)\n",
    "print('N=%d, npol=%d, Nnpol=%d, T=%d' %(N,npol,Nnpol,T))\n",
    "\n",
    "combs=[]\n",
    "for combi in combinations(np.arange(N),npol):\n",
    "    combs.append(combi)"
   ]
  },
  {
   "cell_type": "code",
   "execution_count": 12,
   "metadata": {},
   "outputs": [],
   "source": [
    "res = np.load('../../data/clusters/initial_lengths.npy',allow_pickle=True)"
   ]
  },
  {
   "cell_type": "code",
   "execution_count": 31,
   "metadata": {},
   "outputs": [
    {
     "data": {
      "text/plain": [
       "(array([   31.,    71.,   148.,   399.,  1052.,  1939.,  3767.,  8472.,\n",
       "        12964., 19355.]),\n",
       " array([2.934183142654578, 3.6407645716601156, 4.347346000665653,\n",
       "        5.053927429671191, 5.7605088586767295, 6.467090287682266,\n",
       "        7.173671716687805, 7.8802531456933425, 8.58683457469888,\n",
       "        9.293416003704419, 9.999997432709955], dtype=object),\n",
       " <a list of 10 Patch objects>)"
      ]
     },
     "execution_count": 31,
     "metadata": {},
     "output_type": "execute_result"
    },
    {
     "data": {
      "image/png": "[encoded data removed]",
      "text/plain": [
       "<Figure size 432x288 with 1 Axes>"
      ]
     },
     "metadata": {
      "needs_background": "light"
     },
     "output_type": "display_data"
    }
   ],
   "source": [
    "plt.hist( le[le<10])"
   ]
  },
  {
   "cell_type": "code",
   "execution_count": 32,
   "metadata": {},
   "outputs": [
    {
     "data": {
      "text/plain": [
       "48198"
      ]
     },
     "execution_count": 32,
     "metadata": {},
     "output_type": "execute_result"
    }
   ],
   "source": [
    "len(le[le<10])"
   ]
  },
  {
   "cell_type": "code",
   "execution_count": 13,
   "metadata": {},
   "outputs": [],
   "source": [
    "len(res)\n",
    "le = res[:,1] \n",
    "co = res[:,0]\n",
    "\n",
    "selected_co = co[le<10]\n",
    "npol=6"
   ]
  },
  {
   "cell_type": "code",
   "execution_count": 14,
   "metadata": {},
   "outputs": [],
   "source": [
    "Nnpol = len(selected_co)"
   ]
  },
  {
   "cell_type": "code",
   "execution_count": 15,
   "metadata": {},
   "outputs": [
    {
     "data": {
      "text/plain": [
       "DatetimeIndex(['2015-09-03 00:00:00', '2015-09-03 06:00:00',\n",
       "               '2015-09-03 12:00:00', '2015-09-03 18:00:00',\n",
       "               '2015-09-04 00:00:00', '2015-09-04 06:00:00',\n",
       "               '2015-09-04 12:00:00', '2015-09-04 18:00:00',\n",
       "               '2015-09-05 00:00:00', '2015-09-05 06:00:00',\n",
       "               '2015-09-05 12:00:00', '2015-09-05 18:00:00',\n",
       "               '2015-09-06 00:00:00', '2015-09-06 06:00:00',\n",
       "               '2015-09-06 12:00:00', '2015-09-06 18:00:00',\n",
       "               '2015-09-07 00:00:00', '2015-09-07 06:00:00',\n",
       "               '2015-09-07 12:00:00', '2015-09-07 18:00:00',\n",
       "               '2015-09-08 00:00:00', '2015-09-08 06:00:00',\n",
       "               '2015-09-08 12:00:00', '2015-09-08 18:00:00',\n",
       "               '2015-09-09 00:00:00', '2015-09-09 06:00:00',\n",
       "               '2015-09-09 12:00:00', '2015-09-09 18:00:00',\n",
       "               '2015-09-10 00:00:00', '2015-09-10 06:00:00',\n",
       "               '2015-09-10 12:00:00', '2015-09-10 18:00:00'],\n",
       "              dtype='datetime64[ns]', freq='6H')"
      ]
     },
     "execution_count": 15,
     "metadata": {},
     "output_type": "execute_result"
    }
   ],
   "source": [
    "sampling_times"
   ]
  },
  {
   "cell_type": "code",
   "execution_count": 47,
   "metadata": {},
   "outputs": [
    {
     "name": "stdout",
     "output_type": "stream",
     "text": [
      "1 step in 0 0.234 minutes\n",
      "1 step in 4 1.344 minutes\n",
      "1 step in 8 2.874 minutes\n",
      "1 step in 12 4.507 minutes\n",
      "1 step in 16 5.998 minutes\n",
      "1 step in 20 8.504 minutes\n",
      "1 step in 24 10.191 minutes\n",
      "1 step in 28 11.518 minutes\n",
      "save data\n",
      "total 12.642 minutes\n"
     ]
    }
   ],
   "source": [
    "results=[]\n",
    "\n",
    "mean_length=np.zeros(T)\n",
    "median_length=np.zeros(T)\n",
    "std_length=np.zeros(T)\n",
    "lo_length=np.zeros(T)\n",
    "hi_length=np.zeros(T)\n",
    "\n",
    "median_aspect=np.zeros(T)\n",
    "mean_aspect=np.zeros(T)\n",
    "lo_aspect=np.zeros(T)\n",
    "hi_aspect=np.zeros(T)\n",
    "\n",
    "\n",
    "start = time()\n",
    "for t,tim in enumerate(sampling_times):\n",
    "    \n",
    "    results=[]\n",
    "    if tim in data.index:\n",
    "              \n",
    "        # select subset in time\n",
    "        data_chosen = data[data.index == tim]\n",
    "        \n",
    "        # make polygons\n",
    "        results=[]\n",
    "        pool = mp.Pool(8)     \n",
    "        results = pool.map(makePolygons, range(Nnpol))\n",
    "        pool.close()\n",
    "        pool.join()\n",
    "        \n",
    "        # calculate properties\n",
    "        pool = mp.Pool(8)     \n",
    "        results = pool.map(calc_properties, range(Nnpol))\n",
    "        pool.close()\n",
    "        pool.join()\n",
    "        \n",
    "        # read geometry data\n",
    "        asp = np.array([results[i].aspect for i in range(Nnpol)]).squeeze()\n",
    "        ang = np.array([results[i].angle for i in range(Nnpol)]).squeeze()\n",
    "        leng = np.array([results[i].length for i in range(Nnpol)]).squeeze()\n",
    "        \n",
    "        mean_length[t] = bn.nanmean(leng)\n",
    "        std_length[t] = bn.nanstd(leng)\n",
    "        median_length[t] = bn.nanmedian(leng)\n",
    "        if np.isfinite(leng).sum()>0:\n",
    "            lo_length[t],hi_length[t] = find_percentiles(leng[np.isfinite(leng)])\n",
    "        else:\n",
    "            lo_length[t],hi_length[t] = np.nan, np.nan\n",
    "            \n",
    "        mean_aspect[t] = bn.nanmean(asp)\n",
    "        median_aspect[t] = bn.nanmedian(asp)\n",
    "        if np.isfinite(asp).sum()>0:\n",
    "            lo_aspect[t],hi_aspect[t] = find_percentiles(asp[np.isfinite(asp)])\n",
    "        else:\n",
    "            lo_aspect[t],hi_aspect[t] = np.nan, np.nan\n",
    "        \n",
    "        if np.mod(t,4)==0:\n",
    "            print('1 step in %d %3.3f minutes' %(t,(time()-start)/60) )\n",
    "        \n",
    "    else:\n",
    "        print('no data at that time.')\n",
    "        \n",
    "print('save data' )\n",
    "df=[]\n",
    "df = pd.DataFrame(index=sampling_times,data={'mean_length':mean_length,'median_length':median_length,'lo_length':lo_length,'hi_length':hi_length,\n",
    "                                     'mean_aspect':mean_aspect,'median_aspect':median_aspect,'lo_aspect':lo_aspect,'hi_aspect':hi_aspect})\n",
    "\n",
    "df['dtime']=df.index-df.index[0]\n",
    "# df['dtime']=df.dtime.dt.days.values\n",
    "fname = 'deformation_n_6_T_90d_split_%d.pkl' %t\n",
    "df.to_pickle(data_path+fname)\n",
    "    \n",
    "print('total %3.3f minutes' %((time()-start)/60) )"
   ]
  },
  {
   "cell_type": "code",
   "execution_count": null,
   "metadata": {},
   "outputs": [],
   "source": []
  }
 ],
 "metadata": {
  "kernelspec": {
   "display_name": "Python 3",
   "language": "python",
   "name": "python3"
  },
  "language_info": {
   "codemirror_mode": {
    "name": "ipython",
    "version": 3
   },
   "file_extension": ".py",
   "mimetype": "text/x-python",
   "name": "python",
   "nbconvert_exporter": "python",
   "pygments_lexer": "ipython3",
   "version": "3.7.3"
  }
 },
 "nbformat": 4,
 "nbformat_minor": 4
}
