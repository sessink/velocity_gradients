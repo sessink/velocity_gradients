{
 "cells": [
  {
   "cell_type": "code",
   "execution_count": 2,
   "metadata": {},
   "outputs": [],
   "source": [
    "%load_ext autoreload\n",
    "%autoreload 2\n",
    "%matplotlib inline "
   ]
  },
  {
   "cell_type": "code",
   "execution_count": 13,
   "metadata": {},
   "outputs": [],
   "source": [
    "import numpy as np\n",
    "import pandas as pd\n",
    "import xarray as xr\n",
    "import pickle\n",
    "\n",
    "import matplotlib as mpl\n",
    "import matplotlib.pyplot as plt\n",
    "import seaborn as sns\n",
    "from cmocean import cm\n",
    "\n",
    "import glob\n",
    "\n",
    "# set up figure params\n",
    "sns.set(style='ticks', context='paper', palette='colorblind')\n",
    "mpl.rc('figure', dpi=100, figsize=[7, 3])\n",
    "mpl.rc('savefig', dpi=500, bbox='tight')\n",
    "mpl.rc('legend', frameon=False)"
   ]
  },
  {
   "cell_type": "code",
   "execution_count": 10,
   "metadata": {},
   "outputs": [],
   "source": [
    "def alphabet_label(fig):\n",
    "    ''' Give each subplot a alphabetic label at top left corner'''\n",
    "    for i,ax in enumerate( fig.get_axes() ):\n",
    "        ax.annotate(chr(i+65),(0,1.02),xycoords='axes fraction',weight='bold')"
   ]
  },
  {
   "cell_type": "code",
   "execution_count": 11,
   "metadata": {},
   "outputs": [],
   "source": [
    "data_path = '../../data/drifters/'\n",
    "figure_path = '../../figures/'\n",
    "nfiles = glob.glob(data_path+'deformation_n_6_T_90d_split_*')"
   ]
  },
  {
   "cell_type": "code",
   "execution_count": 7,
   "metadata": {},
   "outputs": [
    {
     "ename": "NameError",
     "evalue": "name 'df' is not defined",
     "output_type": "error",
     "traceback": [
      "\u001b[0;31m---------------------------------------------------------------------------\u001b[0m",
      "\u001b[0;31mNameError\u001b[0m                                 Traceback (most recent call last)",
      "\u001b[0;32m<ipython-input-7-58f24841fe15>\u001b[0m in \u001b[0;36m<module>\u001b[0;34m\u001b[0m\n\u001b[1;32m      1\u001b[0m \u001b[0mf\u001b[0m\u001b[0;34m,\u001b[0m\u001b[0;34m(\u001b[0m\u001b[0max1\u001b[0m\u001b[0;34m,\u001b[0m\u001b[0max2\u001b[0m\u001b[0;34m)\u001b[0m \u001b[0;34m=\u001b[0m \u001b[0mplt\u001b[0m\u001b[0;34m.\u001b[0m\u001b[0msubplots\u001b[0m\u001b[0;34m(\u001b[0m\u001b[0;36m1\u001b[0m\u001b[0;34m,\u001b[0m\u001b[0;36m2\u001b[0m\u001b[0;34m)\u001b[0m\u001b[0;34m\u001b[0m\u001b[0;34m\u001b[0m\u001b[0m\n\u001b[1;32m      2\u001b[0m \u001b[0;34m\u001b[0m\u001b[0m\n\u001b[0;32m----> 3\u001b[0;31m \u001b[0mdf\u001b[0m\u001b[0;34m.\u001b[0m\u001b[0mplot\u001b[0m\u001b[0;34m(\u001b[0m\u001b[0mx\u001b[0m\u001b[0;34m=\u001b[0m\u001b[0;34m'dtime'\u001b[0m\u001b[0;34m,\u001b[0m\u001b[0my\u001b[0m\u001b[0;34m=\u001b[0m\u001b[0;34m[\u001b[0m\u001b[0;34m'mean_length'\u001b[0m\u001b[0;34m,\u001b[0m\u001b[0;34m'median_length'\u001b[0m\u001b[0;34m]\u001b[0m\u001b[0;34m,\u001b[0m\u001b[0max\u001b[0m\u001b[0;34m=\u001b[0m\u001b[0max1\u001b[0m\u001b[0;34m,\u001b[0m\u001b[0mlabel\u001b[0m\u001b[0;34m=\u001b[0m\u001b[0;34m[\u001b[0m\u001b[0;34m'Mean'\u001b[0m\u001b[0;34m,\u001b[0m\u001b[0;34m'Median'\u001b[0m\u001b[0;34m]\u001b[0m\u001b[0;34m,\u001b[0m \u001b[0mlegend\u001b[0m\u001b[0;34m=\u001b[0m\u001b[0;32mFalse\u001b[0m\u001b[0;34m)\u001b[0m\u001b[0;34m\u001b[0m\u001b[0;34m\u001b[0m\u001b[0m\n\u001b[0m\u001b[1;32m      4\u001b[0m ax1.fill_between(x='dtime', y1=df.lo_length, y2=df.hi_length,\n\u001b[1;32m      5\u001b[0m                  alpha=0.6, edgecolor=None, facecolor='gainsboro',linewidth=1, data=df)\n",
      "\u001b[0;31mNameError\u001b[0m: name 'df' is not defined"
     ]
    },
    {
     "data": {
      "image/png": "[encoded data removed]",
      "text/plain": [
       "<Figure size 700x300 with 2 Axes>"
      ]
     },
     "metadata": {},
     "output_type": "display_data"
    }
   ],
   "source": [
    "f,(ax1,ax2) = plt.subplots(1,2)\n",
    "\n",
    "df.plot(x='dtime',y=['mean_length','median_length'],ax=ax1,label=['Mean','Median'], legend=False)\n",
    "ax1.fill_between(x='dtime', y1=df.lo_length, y2=df.hi_length,\n",
    "                 alpha=0.6, edgecolor=None, facecolor='gainsboro',linewidth=1, data=df)\n",
    "ax1.set_xlabel(r'Time $t-t_0$ [d]')\n",
    "ax1.set_ylabel('Length scale L [km]')\n",
    "#ax1.set_title('length scale L')\n",
    "# ax1.legend(loc=2,frameon=False)\n",
    "\n",
    "\n",
    "xtest = np.linspace(0,20,100)\n",
    "ax1.plot(xtest,40*np.exp( 0.2*xtest),'k' ,lw=1)\n",
    "ax1.annotate(r'$e^{0.2t}$',(7,40*np.exp( 0.2*6)), color='k')\n",
    "xtest = np.linspace(15,40,100)\n",
    "ax1.plot(xtest, xtest**1.6-80 ,'k',lw=1)\n",
    "ax1.annotate(r'$t^{1.6}$',(22,20**1.6-80), color='k')\n",
    "xtest = np.linspace(0,40,100)\n",
    "ax1.plot(xtest, xtest**1+100 ,'k',lw=1)\n",
    "ax1.annotate(r'$t^{1}$',(1,1**1+103), color='k')\n",
    "ax1.set_xlim(0,30)\n",
    "ax1.set_ylim(0,250)\n",
    "ax1.legend(loc=3,frameon=False)\n",
    "\n",
    "df.plot(x='dtime',y=['mean_aspect','median_aspect'],ax=ax2,label=['Mean','Median'],legend=False)\n",
    "ax2.fill_between(x='dtime', y1=df.lo_aspect, y2=df.hi_aspect,\n",
    "                 alpha=0.6, edgecolor=None, facecolor='gainsboro',linewidth=1, data=df)\n",
    "ax2.set_ylabel(r'Aspect ratio $\\alpha$')\n",
    "ax2.set_xlabel(r'Time $t-t_0$ [d]')\n",
    "#ax2.set_title(r'aspect ratio $\\alpha$')\n",
    "ax2.set_xlim(0,30)\n",
    "ax2.set_ylim(0,0.4)\n",
    "xtest = np.linspace(0,10,100)\n",
    "ax2.plot(xtest,0.4*np.exp( -0.6*xtest) ,'k',lw=1)\n",
    "ax2.annotate(r'$e^{-0.6t}$',(2,0.4*np.exp( -0.6*1)), color='k')\n",
    "ax2.set_yticks(np.arange(0,0.41,0.1))\n",
    "\n",
    "alphabet_label(f)\n",
    "\n",
    "plt.tight_layout()\n",
    "plt.subplots_adjust(wspace=0.2)\n",
    "plt.savefig(figure_path+'deformations_n6.pdf')\n",
    "plt.show()"
   ]
  },
  {
   "cell_type": "code",
   "execution_count": null,
   "metadata": {},
   "outputs": [],
   "source": []
  }
 ],
 "metadata": {
  "kernelspec": {
   "display_name": "Python 3",
   "language": "python",
   "name": "python3"
  },
  "language_info": {
   "codemirror_mode": {
    "name": "ipython",
    "version": 3
   },
   "file_extension": ".py",
   "mimetype": "text/x-python",
   "name": "python",
   "nbconvert_exporter": "python",
   "pygments_lexer": "ipython3",
   "version": "3.7.3"
  }
 },
 "nbformat": 4,
 "nbformat_minor": 4
}
