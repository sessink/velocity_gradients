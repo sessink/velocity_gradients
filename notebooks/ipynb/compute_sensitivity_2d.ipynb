{
 "cells": [
  {
   "cell_type": "code",
   "execution_count": 58,
   "metadata": {},
   "outputs": [
    {
     "name": "stdout",
     "output_type": "stream",
     "text": [
      "The autoreload extension is already loaded. To reload it, use:\n",
      "  %reload_ext autoreload\n"
     ]
    }
   ],
   "source": [
    "%load_ext autoreload\n",
    "%autoreload 2"
   ]
  },
  {
   "cell_type": "code",
   "execution_count": 59,
   "metadata": {},
   "outputs": [],
   "source": [
    "# Scientific Computing\n",
    "import numpy as np\n",
    "import pandas as pd\n",
    "import xarray as xr\n",
    "from scipy import stats\n",
    "\n",
    "import bottleneck as bn\n",
    "\n",
    "# Plotting\n",
    "import matplotlib.pyplot as plt\n",
    "import seaborn as sns\n",
    "\n",
    "import gsw\n",
    "\n",
    "from deformtools.tools import *\n",
    "from deformtools.io import *\n",
    "from deformtools.methods import *\n",
    "\n",
    "# sns.set(context='talk',style='whitegrid',font_scale=1.3)\n",
    "#from model_plotting import plot_snapshot,plot_snapshot_w\n",
    "import scipy.linalg as la\n",
    "# from spectra_module import spec2d\n",
    "\n",
    "import matplotlib.pyplot as  ttplt\n",
    "import matplotlib as mpl\n",
    "import matplotlib.pyplot as plt\n",
    "import seaborn as sns\n",
    "import hvplot.xarray\n",
    "\n",
    "from deformtools.tools import alphabet\n",
    "\n",
    "sns.set(style='ticks', context='paper', palette='colorblind',font_scale=1.4)\n",
    "mpl.rc('figure', dpi=100, figsize=[11, 5])\n",
    "mpl.rc('savefig', dpi=500, bbox='tight')\n",
    "mpl.rc('legend', frameon=False)"
   ]
  },
  {
   "cell_type": "code",
   "execution_count": 60,
   "metadata": {},
   "outputs": [],
   "source": [
    "def monte_carlo(L, skew,M, N):\n",
    "    f = gsw.f(17)\n",
    "    \n",
    "    # make polygons\n",
    "    xi, yi = make_n_hexs(L, skew, N, M)\n",
    "\n",
    "    # find the u,v at the polygon vertices\n",
    "    ui = fu.ev(xi, yi)\n",
    "    vi = fv.ev(xi, yi)\n",
    "    \n",
    "    # find zeta at polygon center\n",
    "#     true1 = fzeta.ev(bn.nanmean(xi, axis=1), bn.nanmean(yi, axis=1))/f\n",
    "    true2 = np.nanmean( fzeta.ev(xi, yi), axis=1)/f\n",
    "\n",
    "    estimate = np.zeros(N)\n",
    "    for i in range(N):\n",
    "        estimate[i], _, _ = least_square_method(\n",
    "            xi[i, :], yi[i, :], ui[i, :], vi[i, :], 'lstsq')\n",
    "        \n",
    "    # compute R2 and confidence interval\n",
    "    return stats.pearsonr(true2, estimate)[0]**2"
   ]
  },
  {
   "cell_type": "code",
   "execution_count": 61,
   "metadata": {},
   "outputs": [],
   "source": [
    "# %% MAIN\n",
    "data_path = '../../data/'\n",
    "zgrid_path = data_path+'psom/zgrid.out'\n",
    "model_path = data_path+'psom/full_08325.cdf'\n",
    "\n",
    "# dat = read_model_field(snakemake.input[0], snakemake.input[1])\n",
    "dat = read_model_field(zgrid_path, model_path) \n",
    "dat = dat.rename({'xc':'x'}).rename({'yc':'y'})\n",
    "dat = dat.set_coords({'x','y'}).transpose('x','y')\n",
    "\n",
    "fu_list, fv_list, fzeta_list = filter_fields(dat)"
   ]
  },
  {
   "cell_type": "code",
   "execution_count": 62,
   "metadata": {},
   "outputs": [],
   "source": [
    "fu=fu_list[0]\n",
    "fv=fv_list[0]\n",
    "fzeta=fzeta_list[0]"
   ]
  },
  {
   "cell_type": "code",
   "execution_count": 63,
   "metadata": {},
   "outputs": [],
   "source": [
    "llist = np.arange(1, 31, 1).astype(float)\n",
    "llist = np.insert(llist, 0, 0.5)\n",
    "mlist = np.arange(3, 11)\n",
    "skewlist = np.logspace(0, 0.7, 30)"
   ]
  },
  {
   "cell_type": "code",
   "execution_count": 64,
   "metadata": {},
   "outputs": [
    {
     "data": {
      "text/plain": [
       "[<matplotlib.lines.Line2D at 0x1c1ba3beb8>]"
      ]
     },
     "execution_count": 64,
     "metadata": {},
     "output_type": "execute_result"
    },
    {
     "data": {
      "image/png": "[encoded data removed]",
      "text/plain": [
       "<Figure size 1100x500 with 1 Axes>"
      ]
     },
     "metadata": {},
     "output_type": "display_data"
    }
   ],
   "source": [
    "def check_aspect(L, skew,M, N):\n",
    "    xi, yi = make_n_hexs(L, skew, N, M)\n",
    "    return calc_aspect(xi[0, :], yi[0, :])\n",
    "\n",
    "aspects =np.zeros(skewlist.size)\n",
    "for si,s in enumerate(skewlist):\n",
    "    aspects[si] = check_aspect(1,s,3,500)\n",
    "    \n",
    "plt.plot(skewlist, aspects  , '.')"
   ]
  },
  {
   "cell_type": "code",
   "execution_count": 65,
   "metadata": {},
   "outputs": [],
   "source": [
    "results =np.zeros((llist.size, mlist.size))\n",
    "s=1\n",
    "for li,l in enumerate(llist):\n",
    "    for mi,m in enumerate(mlist):\n",
    "        results[li,mi] = monte_carlo(l,s,m,1000)"
   ]
  },
  {
   "cell_type": "code",
   "execution_count": null,
   "metadata": {},
   "outputs": [],
   "source": [
    "results1 =np.zeros((llist.size, skewlist.size))\n",
    "m=3\n",
    "for li,l in enumerate(llist):\n",
    "    for si,s in enumerate(skewlist):\n",
    "        results1[li,si] = monte_carlo(l,s,m,1000)"
   ]
  },
  {
   "cell_type": "code",
   "execution_count": null,
   "metadata": {},
   "outputs": [],
   "source": [
    "results2 =np.zeros((mlist.size, skewlist.size))\n",
    "l=3\n",
    "for mi,m in enumerate(mlist):\n",
    "    for si,s in enumerate(skewlist):\n",
    "        results2[mi,si] = monte_carlo(l,s,m,1000)"
   ]
  },
  {
   "cell_type": "code",
   "execution_count": null,
   "metadata": {},
   "outputs": [],
   "source": [
    "xi, yi = make_n_hexs(1, 1, 1, 3)"
   ]
  },
  {
   "cell_type": "code",
   "execution_count": null,
   "metadata": {},
   "outputs": [],
   "source": [
    "plt.plot( xi, yi, marker='o')\n",
    "plt.axis('equal')"
   ]
  },
  {
   "cell_type": "code",
   "execution_count": null,
   "metadata": {},
   "outputs": [],
   "source": [
    "monte_carlo(0.5,1,3,1000)"
   ]
  },
  {
   "cell_type": "code",
   "execution_count": null,
   "metadata": {},
   "outputs": [],
   "source": [
    "plt.pcolor(mlist, skewlist, results2.T)\n",
    "plt.colorbar()"
   ]
  },
  {
   "cell_type": "code",
   "execution_count": null,
   "metadata": {},
   "outputs": [],
   "source": [
    "f, ax = plt.subplots(1,3, figsize=(14,5))\n",
    "v = np.linspace(0, 0.4, 11, endpoint=True)\n",
    "\n",
    "h= ax[0].pcolor(llist, mlist, results.T, vmin=0, vmax=0.4)\n",
    "# plt.colorbar(h, ax=ax[0])\n",
    "ax[0].set_xlabel(r'L/L$_0$')\n",
    "ax[0].set_ylabel('Number of drifters M')\n",
    "\n",
    "h = ax[1].pcolor(llist,aspects,results1.T, vmin=0, vmax=0.4)\n",
    "# plt.colorbar(h, ax=ax[1])\n",
    "\n",
    "ax[1].set_xlabel(r'L/L$_0$')\n",
    "ax[1].set_ylabel(r'Aspect ratio $\\alpha$')\n",
    "\n",
    "h = ax[2].pcolor(mlist,aspects,results2.T, vmin=0, vmax=0.4)\n",
    "# plt.colorbar(h, ax=ax[2]\n",
    "a = ax[2].get_position() # pos left, bottom, width, height\n",
    "cbar_ax = f.add_axes([a.bounds[0]+a.bounds[2]+0.01, a.bounds[1], 0.01, a.bounds[3] ]) #\n",
    "cbar = f.colorbar(h, cax=cbar_ax,label=r'Correlation coeff. R$^2$') #,ticks=np.arange(0,1,10),')\n",
    "# cbar.ax.set_xticklabels(np.arange(0,1,10))\n",
    "\n",
    "ax[2].set_xlabel('Number of Drifters M')\n",
    "ax[2].set_ylabel(r'Aspect ratio $\\alpha$')\n",
    "\n",
    "ax[0].annotate(r'$\\alpha$=1',(0.8,0.03),xycoords='axes fraction',weight='bold', color='w')\n",
    "ax[1].annotate('M=3',(0.8,0.03),xycoords='axes fraction',weight='bold', color='w')\n",
    "ax[2].annotate(r'L/L$_0$=3',(0.8,0.03),xycoords='axes fraction',weight='bold')\n",
    "\n",
    "\n",
    "alphabet(ax)\n",
    "\n",
    "plt.savefig('../../figures/sensitivity_v2.pdf',bb_inches='tight',dpi=600)"
   ]
  }
 ],
 "metadata": {
  "kernelspec": {
   "display_name": "Python 3",
   "language": "python",
   "name": "python3"
  },
  "language_info": {
   "codemirror_mode": {
    "name": "ipython",
    "version": 3
   },
   "file_extension": ".py",
   "mimetype": "text/x-python",
   "name": "python",
   "nbconvert_exporter": "python",
   "pygments_lexer": "ipython3",
   "version": "3.7.3"
  }
 },
 "nbformat": 4,
 "nbformat_minor": 4
}
