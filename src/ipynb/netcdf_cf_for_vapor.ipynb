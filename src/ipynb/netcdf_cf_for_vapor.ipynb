{
 "cells": [
  {
   "cell_type": "markdown",
   "metadata": {},
   "source": [
    "## Format PSOM netcdf for use in VAPOR\n",
    "\n",
    "Need to do the following steps:\n",
    "1. rename dimensions to T,Z,Y,X\n",
    "2. Exchange Z for sigma\n",
    "3. Add units attrs to variables\n",
    "4. Add units & axis attrs to coordinates"
   ]
  },
  {
   "cell_type": "code",
   "execution_count": 17,
   "metadata": {},
   "outputs": [],
   "source": [
    "import xarray as xr\n",
    "\n",
    "import matplotlib.pyplot as plt\n",
    "import numpy as np\n",
    "import gsw\n",
    "import pandas as pd\n",
    "from scipy.io import netcdf"
   ]
  },
  {
   "cell_type": "code",
   "execution_count": 151,
   "metadata": {},
   "outputs": [],
   "source": [
    "path = '../../data/psom/'\n",
    "zgrid = pd.read_csv(path+'zgrid.txt', skipinitialspace=True, sep=' ', header=None)\n",
    "zgrid = zgrid[1].values"
   ]
  },
  {
   "cell_type": "code",
   "execution_count": 152,
   "metadata": {},
   "outputs": [],
   "source": [
    "data = xr.open_dataset('../../data/psom/full_08325.cdf')\n",
    "data['Z'] = ('sigma', zgrid)"
   ]
  },
  {
   "cell_type": "code",
   "execution_count": 153,
   "metadata": {},
   "outputs": [],
   "source": [
    "data = data.drop(['rho','temp','consump','p','u','v','pv','conv','con100','w','h','tr','s','zc'])"
   ]
  },
  {
   "cell_type": "code",
   "execution_count": 154,
   "metadata": {},
   "outputs": [],
   "source": [
    "data['vor'] = data.vor/gsw.f(40)"
   ]
  },
  {
   "cell_type": "code",
   "execution_count": 155,
   "metadata": {},
   "outputs": [],
   "source": [
    "data = data.rename({'xc':'X','yc':'Y'})\n",
    "data = data.rename_dims({'sigma':'Z','x':'X','y':'Y'})"
   ]
  },
  {
   "cell_type": "code",
   "execution_count": 156,
   "metadata": {},
   "outputs": [],
   "source": [
    "data = data.assign_coords({'X':data.X,'Y':data.Y,'Z':data.Z})"
   ]
  },
  {
   "cell_type": "code",
   "execution_count": 157,
   "metadata": {},
   "outputs": [],
   "source": [
    "data.vor.attrs['units'] = '1/s'\n",
    "data.X.attrs['axis'] = 'x'\n",
    "data.Y.attrs['axis'] = 'y'\n",
    "data.Z.attrs['axis'] = 'z'\n",
    "data.X.attrs['units'] = 'km'\n",
    "data.Y.attrs['units'] = 'km'\n",
    "data.Z.attrs['units'] = 'm'\n",
    "data.to_netcdf('../../data/psom/test.nc')"
   ]
  }
 ],
 "metadata": {
  "kernelspec": {
   "display_name": "Python 3",
   "language": "python",
   "name": "python3"
  },
  "language_info": {
   "codemirror_mode": {
    "name": "ipython",
    "version": 3
   },
   "file_extension": ".py",
   "mimetype": "text/x-python",
   "name": "python",
   "nbconvert_exporter": "python",
   "pygments_lexer": "ipython3",
   "version": "3.7.3"
  }
 },
 "nbformat": 4,
 "nbformat_minor": 4
}
